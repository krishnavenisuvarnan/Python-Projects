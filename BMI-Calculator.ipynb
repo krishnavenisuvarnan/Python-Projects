{
 "cells": [
  {
   "cell_type": "code",
   "execution_count": 5,
   "id": "f6ee1932",
   "metadata": {},
   "outputs": [
    {
     "name": "stdout",
     "output_type": "stream",
     "text": [
      "Enter your weight in pounds : 170\n",
      "Enter your Height in inches : 69\n",
      "BMI = 25.101869355177485\n",
      "You are Over weight\n"
     ]
    }
   ],
   "source": [
    "weight=int(input(\"Enter your weight in pounds : \"))\n",
    "height=int(input(\"Enter your Height in inches : \"))\n",
    "BMI=(weight*703)/(height*height)\n",
    "print(\"BMI =\", BMI)\n",
    "if BMI>0:\n",
    "    if BMI<18.5:\n",
    "        print(\"You are Underweight\")\n",
    "    elif BMI<=24.9:\n",
    "        print(\"You are Normal weight\")\n",
    "    elif BMI<29.9:\n",
    "        print(\"You are Over weight\")\n",
    "    elif BMI<34.9:\n",
    "        print(\"You are Obese\")\n",
    "    elif BMI<39.9:\n",
    "        print(\"You are severely Obese\")\n",
    "    else:\n",
    "        print(\"You are Morbidly Obese\")\n",
    "else:\n",
    "    print(\"Enter Valid Input\")"
   ]
  },
  {
   "cell_type": "code",
   "execution_count": null,
   "id": "1cbe5135",
   "metadata": {},
   "outputs": [],
   "source": [
    "if BMI>0:\n",
    "    if BMI<18.5:\n",
    "        print(\"You are Underweight\")\n",
    "    elif BMI<=24.9:\n",
    "        print(\"You are Normal weight\")\n",
    "    elif BMI<29.9:\n",
    "        print(\"You are Over weight\")\n",
    "    elif BMI<34.9:\n",
    "        print(\"You are Obese\")\n",
    "    elif BMI<39.9:\n",
    "        print(\"You are severely Obese\")\n",
    "    else:\n",
    "        print(\"You are Morbidly Obese\")\n",
    "else:\n",
    "    print(\"Enter Valid Input\")"
   ]
  },
  {
   "cell_type": "markdown",
   "id": "edf642dc",
   "metadata": {},
   "source": []
  },
  {
   "cell_type": "code",
   "execution_count": null,
   "id": "b7069651",
   "metadata": {},
   "outputs": [],
   "source": []
  },
  {
   "cell_type": "code",
   "execution_count": null,
   "id": "514e766f",
   "metadata": {},
   "outputs": [],
   "source": []
  },
  {
   "cell_type": "code",
   "execution_count": null,
   "id": "dfd1bac7",
   "metadata": {},
   "outputs": [],
   "source": []
  },
  {
   "cell_type": "code",
   "execution_count": null,
   "id": "7ed64199",
   "metadata": {},
   "outputs": [],
   "source": []
  },
  {
   "cell_type": "code",
   "execution_count": null,
   "id": "ed412985",
   "metadata": {},
   "outputs": [],
   "source": []
  },
  {
   "cell_type": "code",
   "execution_count": null,
   "id": "19ac3781",
   "metadata": {},
   "outputs": [],
   "source": []
  },
  {
   "cell_type": "code",
   "execution_count": null,
   "id": "079e009e",
   "metadata": {},
   "outputs": [],
   "source": []
  },
  {
   "cell_type": "code",
   "execution_count": null,
   "id": "7d042656",
   "metadata": {},
   "outputs": [],
   "source": []
  },
  {
   "cell_type": "code",
   "execution_count": null,
   "id": "947bab51",
   "metadata": {},
   "outputs": [],
   "source": []
  },
  {
   "cell_type": "code",
   "execution_count": null,
   "id": "70cbc83c",
   "metadata": {},
   "outputs": [],
   "source": []
  },
  {
   "cell_type": "code",
   "execution_count": null,
   "id": "795edd59",
   "metadata": {},
   "outputs": [],
   "source": []
  },
  {
   "cell_type": "code",
   "execution_count": null,
   "id": "7fbda643",
   "metadata": {},
   "outputs": [],
   "source": []
  },
  {
   "cell_type": "code",
   "execution_count": null,
   "id": "d15d53b4",
   "metadata": {},
   "outputs": [],
   "source": []
  },
  {
   "cell_type": "code",
   "execution_count": null,
   "id": "2a78a01b",
   "metadata": {},
   "outputs": [],
   "source": []
  }
 ],
 "metadata": {
  "kernelspec": {
   "display_name": "Python 3 (ipykernel)",
   "language": "python",
   "name": "python3"
  },
  "language_info": {
   "codemirror_mode": {
    "name": "ipython",
    "version": 3
   },
   "file_extension": ".py",
   "mimetype": "text/x-python",
   "name": "python",
   "nbconvert_exporter": "python",
   "pygments_lexer": "ipython3",
   "version": "3.11.3"
  }
 },
 "nbformat": 4,
 "nbformat_minor": 5
}
